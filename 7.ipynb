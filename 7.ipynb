{
 "cells": [
  {
   "cell_type": "markdown",
   "id": "165c43d6",
   "metadata": {},
   "source": [
    "# list \n",
    "A list is an ordered, mutable collection of elements."
   ]
  },
  {
   "cell_type": "code",
   "execution_count": 2,
   "id": "e7b7a5d0",
   "metadata": {},
   "outputs": [],
   "source": [
    "my_list = [10,2,40,\"tyagi\",\"keshav\"]"
   ]
  },
  {
   "cell_type": "code",
   "execution_count": null,
   "metadata": {},
   "outputs": [],
   "source": [
    "## Append\n",
    "\"Adds an element at the end of the list.\"\n",
    "my_list.append(2)"
   ]
  },
  {
   "cell_type": "code",
   "execution_count": 5,
   "id": "ec8fbd6c",
   "metadata": {},
   "outputs": [],
   "source": [
    "## extend()\n",
    "\n",
    "\"Adds multiple elements (iterable) to the end of the list.\"\n",
    "my_list.extend([1,2,3])"
   ]
  },
  {
   "cell_type": "markdown",
   "id": "ba4ffb51",
   "metadata": {},
   "source": [
    "\"Note: append() adds the whole list as one item, while extend() adds each element individually.\""
   ]
  },
  {
   "cell_type": "code",
   "execution_count": 8,
   "id": "f9979c59",
   "metadata": {},
   "outputs": [],
   "source": [
    "my_list.append([2,3,3])"
   ]
  },
  {
   "cell_type": "code",
   "execution_count": 9,
   "id": "24986809",
   "metadata": {},
   "outputs": [
    {
     "name": "stdout",
     "output_type": "stream",
     "text": [
      "[10, 2, 40, 'tyagi', 'keshav', 2, 1, 2, 3, [2, 3, 3]]\n"
     ]
    }
   ],
   "source": [
    "print(my_list)"
   ]
  },
  {
   "cell_type": "code",
   "execution_count": 10,
   "metadata": {},
   "outputs": [
    {
     "name": "stdout",
     "output_type": "stream",
     "text": [
      "['apple', 'mango', 'banana', 'cherry']\n"
     ]
    }
   ],
   "source": [
    "##  insert()\n",
    "\"Inserts an element at a specific index.\"\n",
    "fruits = [\"apple\", \"banana\", \"cherry\"]\n",
    "fruits.insert(1, \"mango\")\n",
    "print(fruits)   # ['apple', 'mango', 'banana', 'cherry']\n"
   ]
  },
  {
   "cell_type": "code",
   "execution_count": null,
   "metadata": {},
   "outputs": [],
   "source": [
    "## remove()\n",
    "\"Removes the first occurrence of the specified element.\"\n",
    "nums = [1, 2, 3, 2]\n",
    "nums.remove(2)\n",
    "print(nums)   \n",
    "\"Raises an error if the item doesn’t exist.\""
   ]
  },
  {
   "cell_type": "code",
   "execution_count": 12,
   "metadata": {},
   "outputs": [
    {
     "name": "stdout",
     "output_type": "stream",
     "text": [
      "[20]\n",
      "30\n"
     ]
    }
   ],
   "source": [
    "## pop()\n",
    "\n",
    "\"\"\"Removes and **returns** the element at the given index.\n",
    "(Default = last item)\"\"\"\n",
    "nums = [10, 20, 30]\n",
    "a= nums.pop()      # removes last (30)\n",
    "nums.pop(0)     # removes index 0 (10)\n",
    "print(nums)     # [20]\n",
    "print(a)"
   ]
  },
  {
   "cell_type": "markdown",
   "id": "d5f8385e",
   "metadata": {},
   "source": [
    "| Method              | Action                  | Returns  |\n",
    "| ------------------- | ----------------------- | -------- |\n",
    "| `.append(x)`        | Add one item at end     | None     |\n",
    "| `.extend(iterable)` | Add multiple items      | None     |\n",
    "| `.insert(i, x)`     | Insert at index         | None     |\n",
    "| `.remove(x)`        | Remove first match      | None     |\n",
    "| `.pop([i])`         | Remove + return element | Element  |\n",
    "| `.clear()`          | Remove all items        | None     |\n",
    "| `.index(x)`         | Find position           | Integer  |\n",
    "| `.count(x)`         | Count occurrences       | Integer  |\n",
    "| `.sort()`           | Sort list               | None     |\n",
    "| `.reverse()`        | Reverse list order      | None     |\n",
    "| `.copy()`           | Copy list               | New list |\n"
   ]
  },
  {
   "cell_type": "markdown",
   "id": "0d8b76ca",
   "metadata": {},
   "source": [
    "| Function   | Description                                       | Example                     |\n",
    "| ---------- | ------------------------------------------------- | --------------------------- |\n",
    "| `len()`    | Returns number of elements                        | `len([1,2,3]) → 3`          |\n",
    "| `sum()`    | Adds all numbers                                  | `sum([1,2,3]) → 6`          |\n",
    "| `min()`    | Returns smallest value                            | `min([1,2,3]) → 1`          |\n",
    "| `max()`    | Returns largest value                             | `max([1,2,3]) → 3`          |\n",
    "| `sorted()` | Returns new sorted list (doesn’t modify original) | `sorted([3,1,2]) → [1,2,3]` |\n"
   ]
  },
  {
   "cell_type": "markdown",
   "id": "5503c22d",
   "metadata": {},
   "source": [
    "## use case in ML\n",
    "| Use Case                               | Example                      |\n",
    "| -------------------------------------- | ---------------------------- |\n",
    "| Store fixed dataset properties         | `(rows, columns) = df.shape` |\n",
    "| Return multiple values from a function | `return (accuracy, loss)`    |\n",
    "| Coordinate or vector representation    | `(x, y, z)`                  |\n",
    "| Feature metadata                       | `(feature_name, dtype)`      |\n"
   ]
  },
  {
   "cell_type": "markdown",
   "id": "7cbb2d82",
   "metadata": {},
   "source": [
    "# Tuple\n"
   ]
  },
  {
   "cell_type": "code",
   "execution_count": 14,
   "metadata": {},
   "outputs": [
    {
     "data": {
      "text/plain": [
       "'Python provides only 2 built-in tuple methods:\\n.count() and .index()'"
      ]
     },
     "execution_count": 14,
     "metadata": {},
     "output_type": "execute_result"
    }
   ],
   "source": [
    "\"\"\"Python provides only 2 built-in tuple methods:\n",
    ".count() and .index()\"\"\""
   ]
  },
  {
   "cell_type": "markdown",
   "id": "fd682b0e",
   "metadata": {},
   "source": [
    "numbers = (1, 2, 3, 2, 4, 2)\n",
    "count_2 = numbers.count(2)\n",
    "print(count_2)\n"
   ]
  },
  {
   "cell_type": "code",
   "execution_count": 16,
   "metadata": {},
   "outputs": [
    {
     "name": "stdout",
     "output_type": "stream",
     "text": [
      "1\n"
     ]
    }
   ],
   "source": [
    "\"\"\"tuple_name.index(value, start, end)\"\"\"\n",
    "\n",
    "colors = ('red', 'blue', 'green', 'blue', 'yellow')\n",
    "position = colors.index('blue')\n",
    "print(position)\n"
   ]
  },
  {
   "cell_type": "markdown",
   "id": "247744b1",
   "metadata": {},
   "source": [
    "# Set "
   ]
  },
  {
   "cell_type": "code",
   "execution_count": 17,
   "metadata": {},
   "outputs": [
    {
     "data": {
      "text/plain": [
       "'No duplicate values\\nUnordered (no indexing or slicing)\\nMutable (can add/remove items)\\nSupports mathematical operations like union, intersection, etc.'"
      ]
     },
     "execution_count": 17,
     "metadata": {},
     "output_type": "execute_result"
    }
   ],
   "source": [
    "\"\"\"What is a Set?\n",
    "\n",
    "A set is an unordered, mutable, and unindexed collection of unique elements.\"\"\"\n",
    "\n",
    "\"\"\"No duplicate values\n",
    "Unordered (no indexing or slicing)\n",
    "Mutable (can add/remove items)\n",
    "Supports mathematical operations like union, intersection, etc.\"\"\""
   ]
  },
  {
   "cell_type": "markdown",
   "id": "6861ec68",
   "metadata": {},
   "source": [
    "### Quick summary\n",
    "| Method                          | Description                          |\n",
    "| ------------------------------- | ------------------------------------ |\n",
    "| `add()`                         | Add a single element                 |\n",
    "| `update()`                      | Add multiple elements                |\n",
    "| `remove()`                      | Remove element (error if not found)  |\n",
    "| `discard()`                     | Remove element (no error)            |\n",
    "| `pop()`                         | Remove a random element              |\n",
    "| `clear()`                       | Remove all elements                  |\n",
    "| `copy()`                        | Copy set                             |\n",
    "| `union()`                       | All unique elements from both sets   |\n",
    "| `intersection()`                | Common elements                      |\n",
    "| `difference()`                  | Elements in first but not second     |\n",
    "| `symmetric_difference()`        | Elements not common to both          |\n",
    "| `intersection_update()`         | Keep only common elements            |\n",
    "| `difference_update()`           | Remove common elements               |\n",
    "| `symmetric_difference_update()` | Keep non-common elements             |\n",
    "| `isdisjoint()`                  | True if sets have no common items    |\n",
    "| `issubset()`                    | True if one set is subset of another |\n",
    "| `issuperset()`                  | True if one set contains another     |\n"
   ]
  },
  {
   "cell_type": "markdown",
   "id": "ab02c9b6",
   "metadata": {},
   "source": [
    "## Use case in ML\n",
    "\n",
    "| Use Case                    | Example                                    |\n",
    "| --------------------------- | ------------------------------------------ |\n",
    "| Unique feature extraction   | `unique_features = set(feature_list)`      |\n",
    "| Removing duplicates         | `set(df['column'])`                        |\n",
    "| Comparing categories        | `expected - actual`                        |\n",
    "| Feature overlap             | `set(features_A).intersection(features_B)` |\n",
    "| Checking missing categories | `set(required) - set(present)`             |\n"
   ]
  },
  {
   "cell_type": "markdown",
   "id": "c8d317e1",
   "metadata": {},
   "source": [
    "# Dictionary"
   ]
  },
  {
   "cell_type": "markdown",
   "id": "c6caf9e2",
   "metadata": {},
   "source": [
    "| **Method**                        | **Description**                              | **Example**                                            |\n",
    "| --------------------------------- | -------------------------------------------- | ------------------------------------------------------ |\n",
    "| `dict.clear()`                    | Removes all key–value pairs                  | `student.clear()`                                      |\n",
    "| `dict.copy()`                     | Returns a shallow copy                       | `new_student = student.copy()`                         |\n",
    "| `dict.fromkeys(keys, value)`      | Creates new dict from keys                   | `dict.fromkeys(['a','b'], 0)` → `{'a':0,'b':0}`        |\n",
    "| `dict.get(key, default)`          | Returns value if key exists, else default    | `student.get('age', 0)`                                |\n",
    "| `dict.items()`                    | Returns all key–value pairs as tuples        | `student.items()` → `[('name','Dinesh'),('marks',95)]` |\n",
    "| `dict.keys()`                     | Returns all keys                             | `student.keys()` → `['name','marks']`                  |\n",
    "| `dict.values()`                   | Returns all values                           | `student.values()` → `['Dinesh',95]`                   |\n",
    "| `dict.pop(key[, default])`        | Removes the given key                        | `student.pop('age', 'NA')`                             |\n",
    "| `dict.popitem()`                  | Removes the last inserted item               | `student.popitem()`                                    |\n",
    "| `dict.setdefault(key[, default])` | Returns value of key; if missing, inserts it | `student.setdefault('city', 'Delhi')`                  |\n",
    "| `dict.update(other_dict)`         | Updates one dict with another                | `student.update({'grade':'A'})`                        |\n"
   ]
  },
  {
   "cell_type": "code",
   "execution_count": null,
   "metadata": {},
   "outputs": [],
   "source": []
  },
  {
   "cell_type": "code",
   "execution_count": null,
   "metadata": {},
   "outputs": [],
   "source": []
  },
  {
   "cell_type": "code",
   "execution_count": null,
   "metadata": {},
   "outputs": [],
   "source": []
  },
  {
   "cell_type": "code",
   "execution_count": null,
   "id": "6cb531a5",
   "metadata": {},
   "outputs": [],
   "source": []
  },
  {
   "cell_type": "code",
   "execution_count": null,
   "id": "503238c1",
   "metadata": {},
   "outputs": [],
   "source": []
  }
 ],
 "metadata": {
  "kernelspec": {
   "display_name": "base",
   "language": "python",
   "name": "python3"
  },
  "language_info": {
   "codemirror_mode": {
    "name": "ipython",
    "version": 3
   },
   "file_extension": ".py",
   "mimetype": "text/x-python",
   "name": "python",
   "nbconvert_exporter": "python",
   "pygments_lexer": "ipython3",
   "version": "3.12.4"
  }
 },
 "nbformat": 4,
 "nbformat_minor": 5
}
